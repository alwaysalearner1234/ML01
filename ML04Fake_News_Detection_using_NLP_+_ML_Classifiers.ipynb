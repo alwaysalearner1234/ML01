{
  "nbformat": 4,
  "nbformat_minor": 0,
  "metadata": {
    "colab": {
      "provenance": [],
      "authorship_tag": "ABX9TyNXaB7RDKe+6QMy3UcfPEJ0",
      "include_colab_link": true
    },
    "kernelspec": {
      "name": "python3",
      "display_name": "Python 3"
    },
    "language_info": {
      "name": "python"
    }
  },
  "cells": [
    {
      "cell_type": "markdown",
      "metadata": {
        "id": "view-in-github",
        "colab_type": "text"
      },
      "source": [
        "<a href=\"https://colab.research.google.com/github/alwaysalearner1234/ML01/blob/main/ML04Fake_News_Detection_using_NLP_%2B_ML_Classifiers.ipynb\" target=\"_parent\"><img src=\"https://colab.research.google.com/assets/colab-badge.svg\" alt=\"Open In Colab\"/></a>"
      ]
    },
    {
      "cell_type": "code",
      "execution_count": 1,
      "metadata": {
        "colab": {
          "base_uri": "https://localhost:8080/"
        },
        "id": "Mbm-wNxOsXaK",
        "outputId": "d7046f8b-b351-46fc-e563-62d098737cd4"
      },
      "outputs": [
        {
          "output_type": "stream",
          "name": "stdout",
          "text": [
            "\n",
            "✅ Accuracy: 1.0\n",
            "\n",
            "✅ Classification Report:\n",
            "               precision    recall  f1-score   support\n",
            "\n",
            "           0       1.00      1.00      1.00         4\n",
            "           1       1.00      1.00      1.00         4\n",
            "\n",
            "    accuracy                           1.00         8\n",
            "   macro avg       1.00      1.00      1.00         8\n",
            "weighted avg       1.00      1.00      1.00         8\n",
            "\n",
            "\n",
            "✅ Confusion Matrix:\n",
            " [[4 0]\n",
            " [0 4]]\n",
            "\n",
            "Custom Test 1: ✅ Real News\n",
            "Custom Test 2: ❌ Fake News\n"
          ]
        }
      ],
      "source": [
        "import pandas as pd\n",
        "from sklearn.feature_extraction.text import TfidfVectorizer\n",
        "from sklearn.linear_model import LogisticRegression\n",
        "from sklearn.metrics import accuracy_score, classification_report, confusion_matrix\n",
        "import re, string\n",
        "\n",
        "# -------------------------------------------------\n",
        "# 1. Apna Dataset banalo (chhota demo)\n",
        "# -------------------------------------------------\n",
        "data = {\n",
        "    \"text\": [\n",
        "        \"The government announced a new healthcare policy.\",   # Real\n",
        "        \"Aliens landed in New York and took over the White House!\", # Fake\n",
        "        \"Scientists discovered a cure for cancer after 20 years of research.\", # Real\n",
        "        \"Celebrity found alive on Mars after disappearing 10 years ago.\", # Fake\n",
        "        \"Stock markets are showing positive growth this quarter.\", # Real\n",
        "        \"Man claims to have a time machine built in his garage.\", # Fake\n",
        "        \"Schools to reopen from next Monday after holidays.\", # Real\n",
        "        \"Dinosaurs seen alive in the Amazon rainforest.\", # Fake\n",
        "    ],\n",
        "    \"label\": [1, 0, 1, 0, 1, 0, 1, 0]  # 1 = Real, 0 = Fake\n",
        "}\n",
        "\n",
        "df = pd.DataFrame(data)\n",
        "\n",
        "# -------------------------------------------------\n",
        "# 2. Preprocess function\n",
        "# -------------------------------------------------\n",
        "def clean_text(text):\n",
        "    text = text.lower()\n",
        "    text = re.sub(r\"http\\S+|www\\S+|https\\S+\", '', text)\n",
        "    text = text.translate(str.maketrans('', '', string.punctuation))\n",
        "    text = re.sub(r'\\d+', '', text)\n",
        "    return text.strip()\n",
        "\n",
        "df[\"text\"] = df[\"text\"].apply(clean_text)\n",
        "\n",
        "# -------------------------------------------------\n",
        "# 3. Features & Labels\n",
        "# -------------------------------------------------\n",
        "X, y = df[\"text\"], df[\"label\"]\n",
        "\n",
        "# -------------------------------------------------\n",
        "# 4. TF-IDF\n",
        "# -------------------------------------------------\n",
        "tfidf = TfidfVectorizer(stop_words='english')\n",
        "X_tfidf = tfidf.fit_transform(X)\n",
        "\n",
        "# -------------------------------------------------\n",
        "# 5. Train Model\n",
        "# -------------------------------------------------\n",
        "model = LogisticRegression()\n",
        "model.fit(X_tfidf, y)\n",
        "\n",
        "# -------------------------------------------------\n",
        "# 6. Evaluate\n",
        "# -------------------------------------------------\n",
        "y_pred = model.predict(X_tfidf)\n",
        "\n",
        "print(\"\\n✅ Accuracy:\", accuracy_score(y, y_pred))\n",
        "print(\"\\n✅ Classification Report:\\n\", classification_report(y, y_pred))\n",
        "print(\"\\n✅ Confusion Matrix:\\n\", confusion_matrix(y, y_pred))\n",
        "\n",
        "# -------------------------------------------------\n",
        "# 7. Custom Prediction\n",
        "# -------------------------------------------------\n",
        "def predict_news(news_text):\n",
        "    news_text = clean_text(news_text)\n",
        "    vectorized = tfidf.transform([news_text])\n",
        "    prediction = model.predict(vectorized)[0]\n",
        "    return \"✅ Real News\" if prediction == 1 else \"❌ Fake News\"\n",
        "\n",
        "# Test karo\n",
        "print(\"\\nCustom Test 1:\", predict_news(\"NASA announced a new mission to the Moon.\"))\n",
        "print(\"Custom Test 2:\", predict_news(\"Aliens have captured the Eiffel Tower.\"))"
      ]
    }
  ]
}