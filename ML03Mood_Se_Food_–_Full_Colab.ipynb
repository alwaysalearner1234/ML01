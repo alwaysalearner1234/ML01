{
  "nbformat": 4,
  "nbformat_minor": 0,
  "metadata": {
    "colab": {
      "provenance": [],
      "authorship_tag": "ABX9TyNP/9lanExUpXOan7MDhuIN",
      "include_colab_link": true
    },
    "kernelspec": {
      "name": "python3",
      "display_name": "Python 3"
    },
    "language_info": {
      "name": "python"
    }
  },
  "cells": [
    {
      "cell_type": "markdown",
      "metadata": {
        "id": "view-in-github",
        "colab_type": "text"
      },
      "source": [
        "<a href=\"https://colab.research.google.com/github/alwaysalearner1234/ML01/blob/main/ML03Mood_Se_Food_%E2%80%93_Full_Colab.ipynb\" target=\"_parent\"><img src=\"https://colab.research.google.com/assets/colab-badge.svg\" alt=\"Open In Colab\"/></a>"
      ]
    },
    {
      "cell_type": "code",
      "execution_count": null,
      "metadata": {
        "colab": {
          "base_uri": "https://localhost:8080/"
        },
        "id": "jvoOniNRl6D6",
        "outputId": "0610dfdf-fa5a-4846-f807-058273cdcbc2"
      },
      "outputs": [
        {
          "output_type": "stream",
          "name": "stdout",
          "text": [
            "Requirement already satisfied: nltk in /usr/local/lib/python3.11/dist-packages (3.9.1)\n",
            "Requirement already satisfied: scikit-learn in /usr/local/lib/python3.11/dist-packages (1.6.1)\n",
            "Requirement already satisfied: click in /usr/local/lib/python3.11/dist-packages (from nltk) (8.2.1)\n",
            "Requirement already satisfied: joblib in /usr/local/lib/python3.11/dist-packages (from nltk) (1.5.1)\n",
            "Requirement already satisfied: regex>=2021.8.3 in /usr/local/lib/python3.11/dist-packages (from nltk) (2024.11.6)\n",
            "Requirement already satisfied: tqdm in /usr/local/lib/python3.11/dist-packages (from nltk) (4.67.1)\n",
            "Requirement already satisfied: numpy>=1.19.5 in /usr/local/lib/python3.11/dist-packages (from scikit-learn) (2.0.2)\n",
            "Requirement already satisfied: scipy>=1.6.0 in /usr/local/lib/python3.11/dist-packages (from scikit-learn) (1.16.1)\n",
            "Requirement already satisfied: threadpoolctl>=3.1.0 in /usr/local/lib/python3.11/dist-packages (from scikit-learn) (3.6.0)\n"
          ]
        },
        {
          "output_type": "stream",
          "name": "stderr",
          "text": [
            "[nltk_data] Downloading package punkt to /root/nltk_data...\n",
            "[nltk_data]   Package punkt is already up-to-date!\n",
            "[nltk_data] Downloading package stopwords to /root/nltk_data...\n",
            "[nltk_data]   Package stopwords is already up-to-date!\n",
            "[nltk_data] Downloading package wordnet to /root/nltk_data...\n",
            "[nltk_data]   Package wordnet is already up-to-date!\n",
            "[nltk_data] Downloading package punkt_tab to /root/nltk_data...\n",
            "[nltk_data]   Unzipping tokenizers/punkt_tab.zip.\n"
          ]
        }
      ],
      "source": [
        "# =============================\n",
        "# 1. Install & Import Libraries\n",
        "# =============================\n",
        "\n",
        "!pip install nltk scikit-learn\n",
        "\n",
        "import nltk\n",
        "import re\n",
        "from nltk.corpus import stopwords\n",
        "from nltk.stem import WordNetLemmatizer\n",
        "from sklearn.feature_extraction.text import TfidfVectorizer\n",
        "from sklearn.naive_bayes import MultinomialNB\n",
        "\n",
        "# Download required NLTK data\n",
        "nltk.download('punkt')\n",
        "nltk.download('stopwords')\n",
        "nltk.download('wordnet')\n",
        "nltk.download('punkt_tab')\n",
        "\n",
        "stop_words = set(stopwords.words(\"english\"))\n",
        "lemmatizer = WordNetLemmatizer()"
      ]
    },
    {
      "cell_type": "code",
      "source": [
        "# =============================\n",
        "# 2. Sample Training Data\n",
        "# =============================\n",
        "\n",
        "# Hum ek chhota dataset bana rahe hain moods ke liye\n",
        "data = [\n",
        "    (\"I am so happy today, everything is awesome!\", \"happy\"),\n",
        "    (\"Feeling great, what a wonderful day!\", \"happy\"),\n",
        "    (\"I am really sad and disappointed.\", \"sad\"),\n",
        "    (\"This is the worst day ever, I feel terrible.\", \"sad\"),\n",
        "    (\"I am so angry and frustrated right now!\", \"angry\"),\n",
        "    (\"Why is everything making me so mad?\", \"angry\"),\n",
        "    (\"I am just okay, nothing special.\", \"neutral\"),\n",
        "    (\"Life is normal, nothing new happening.\", \"neutral\"),\n",
        "]\n",
        "\n",
        "texts = [t[0] for t in data]\n",
        "labels = [t[1] for t in data]"
      ],
      "metadata": {
        "id": "dJpWA1-KmBFP"
      },
      "execution_count": null,
      "outputs": []
    },
    {
      "cell_type": "code",
      "source": [
        "# =============================\n",
        "# 3. Text Cleaning Function\n",
        "# =============================\n",
        "\n",
        "def clean_text(text):\n",
        "    text = text.lower()\n",
        "    text = re.sub(r'http\\S+', '', text)  # remove links\n",
        "    text = re.sub(r'[^a-z\\s]', '', text)  # remove special chars\n",
        "    tokens = nltk.word_tokenize(text)\n",
        "    tokens = [lemmatizer.lemmatize(w) for w in tokens if w not in stop_words]\n",
        "    return \" \".join(tokens)\n",
        "\n",
        "cleaned_texts = [clean_text(t) for t in texts]"
      ],
      "metadata": {
        "id": "wGSYdOYBmIMe"
      },
      "execution_count": null,
      "outputs": []
    },
    {
      "cell_type": "code",
      "source": [
        "# =============================\n",
        "# 4. Train Sentiment (Mood) Model\n",
        "# =============================\n",
        "\n",
        "vectorizer = TfidfVectorizer()\n",
        "X = vectorizer.fit_transform(cleaned_texts)\n",
        "\n",
        "model = MultinomialNB()\n",
        "model.fit(X, labels)\n",
        "\n",
        "print(\"🎯 Mood Detection Model Trained Successfully!\")"
      ],
      "metadata": {
        "colab": {
          "base_uri": "https://localhost:8080/"
        },
        "id": "IR17WbzcmyoD",
        "outputId": "b7d11eec-bce3-49b1-aff4-474cdbc0e639"
      },
      "execution_count": null,
      "outputs": [
        {
          "output_type": "stream",
          "name": "stdout",
          "text": [
            "🎯 Mood Detection Model Trained Successfully!\n"
          ]
        }
      ]
    },
    {
      "cell_type": "code",
      "source": [
        "# =============================\n",
        "# 5. Mood to Food Mapping\n",
        "# =============================\n",
        "\n",
        "food_map = {\n",
        "    \"happy\": [\"Pizza 🍕\", \"Ice Cream 🍦\", \"Burger 🍔\"],\n",
        "    \"sad\": [\"Chocolate 🍫\", \"French Fries 🍟\", \"Comfort Food 🍲\"],\n",
        "    \"angry\": [\"Spicy Momos 🌶\", \"Biryani 🍛\", \"Tandoori Chicken 🍗\"],\n",
        "    \"neutral\": [\"Dal Chawal 🍚\", \"Roti Sabzi 🥬\", \"Simple Salad 🥗\"]\n",
        "}"
      ],
      "metadata": {
        "id": "uyrlT766m4xu"
      },
      "execution_count": null,
      "outputs": []
    },
    {
      "cell_type": "code",
      "source": [
        "# =============================\n",
        "# 6. Prediction Function\n",
        "# =============================\n",
        "\n",
        "import random\n",
        "\n",
        "def mood_to_food(text):\n",
        "    cleaned = clean_text(text)\n",
        "    vec = vectorizer.transform([cleaned])\n",
        "    mood = model.predict(vec)[0]\n",
        "    recommended_food = random.choice(food_map[mood])\n",
        "\n",
        "    print(f\"\\nUser Input: {text}\")\n",
        "    print(f\"→ Detected Mood: {mood.capitalize()}\")\n",
        "    print(f\"→ Recommended Food: {recommended_food}\")"
      ],
      "metadata": {
        "id": "_IHwzRsem8Bg"
      },
      "execution_count": null,
      "outputs": []
    },
    {
      "cell_type": "code",
      "source": [
        "# =============================\n",
        "# 7. Test with Examples\n",
        "# =============================\n",
        "\n",
        "mood_to_food(\"I got my first internship today, feeling amazing!\")\n",
        "mood_to_food(\"I am so tired and nothing is working.\")\n",
        "mood_to_food(\"Why the hell is everything irritating me?!\")\n",
        "mood_to_food(\"Hmm, just chilling... nothing special.\")"
      ],
      "metadata": {
        "colab": {
          "base_uri": "https://localhost:8080/"
        },
        "id": "RpbnakRvm-zU",
        "outputId": "115877a3-a596-4a84-b127-ab09574a800a"
      },
      "execution_count": null,
      "outputs": [
        {
          "output_type": "stream",
          "name": "stdout",
          "text": [
            "\n",
            "User Input: I got my first internship today, feeling amazing!\n",
            "→ Detected Mood: Happy\n",
            "→ Recommended Food: Ice Cream 🍦\n",
            "\n",
            "User Input: I am so tired and nothing is working.\n",
            "→ Detected Mood: Neutral\n",
            "→ Recommended Food: Roti Sabzi 🥬\n",
            "\n",
            "User Input: Why the hell is everything irritating me?!\n",
            "→ Detected Mood: Angry\n",
            "→ Recommended Food: Tandoori Chicken 🍗\n",
            "\n",
            "User Input: Hmm, just chilling... nothing special.\n",
            "→ Detected Mood: Neutral\n",
            "→ Recommended Food: Roti Sabzi 🥬\n"
          ]
        }
      ]
    }
  ]
}